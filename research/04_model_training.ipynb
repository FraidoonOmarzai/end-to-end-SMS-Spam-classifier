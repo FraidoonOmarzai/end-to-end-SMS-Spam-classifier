{
 "cells": [
  {
   "cell_type": "code",
   "execution_count": 2,
   "metadata": {},
   "outputs": [
    {
     "data": {
      "text/plain": [
       "'c:\\\\Users\\\\44787\\\\Desktop\\\\projects\\\\end-to-end-SMS-Spam-classifier\\\\research'"
      ]
     },
     "execution_count": 2,
     "metadata": {},
     "output_type": "execute_result"
    }
   ],
   "source": [
    "%pwd"
   ]
  },
  {
   "cell_type": "code",
   "execution_count": 3,
   "metadata": {},
   "outputs": [
    {
     "data": {
      "text/plain": [
       "'c:\\\\Users\\\\44787\\\\Desktop\\\\projects\\\\end-to-end-SMS-Spam-classifier'"
      ]
     },
     "execution_count": 3,
     "metadata": {},
     "output_type": "execute_result"
    }
   ],
   "source": [
    "import os\n",
    "\n",
    "os.chdir('../')\n",
    "%pwd"
   ]
  },
  {
   "cell_type": "code",
   "execution_count": 4,
   "metadata": {},
   "outputs": [],
   "source": [
    "from dataclasses import dataclass\n",
    "from pathlib import Path\n",
    "\n",
    "\n",
    "@dataclass\n",
    "class ModelTrainingConfig:\n",
    "    root_dir: Path\n",
    "    train_path: Path"
   ]
  },
  {
   "cell_type": "code",
   "execution_count": 5,
   "metadata": {},
   "outputs": [],
   "source": [
    "from src.SMSClassifier.constants import CONFIG_PATH\n",
    "from src.SMSClassifier.utils.common import read_yaml, create_directories"
   ]
  },
  {
   "cell_type": "code",
   "execution_count": 6,
   "metadata": {},
   "outputs": [],
   "source": [
    "class ConfiguratoinManager:\n",
    "    def __init__(self, config=CONFIG_PATH):\n",
    "        self.config = read_yaml(config)\n",
    "\n",
    "    def get_model_training_config(self) -> ModelTrainingConfig:\n",
    "        config = self.config.model_training\n",
    "        create_directories([config.root_dir])\n",
    "\n",
    "        model_training_config = ModelTrainingConfig(\n",
    "            root_dir=config.root_dir,\n",
    "            train_path=config.train_path,\n",
    "        )\n",
    "        return model_training_config"
   ]
  },
  {
   "cell_type": "code",
   "execution_count": 7,
   "metadata": {},
   "outputs": [],
   "source": [
    "from src.SMSClassifier.logging import logger\n",
    "from sklearn.naive_bayes import MultinomialNB\n",
    "from sklearn.model_selection import RandomizedSearchCV\n",
    "import joblib\n",
    "import pandas as pd"
   ]
  },
  {
   "cell_type": "code",
   "execution_count": 12,
   "metadata": {},
   "outputs": [],
   "source": [
    "class ModelTraining:\n",
    "    def __init__(self, config: ModelTrainingConfig) -> None:\n",
    "        self.config = config\n",
    "\n",
    "    def training_pipeline(self):\n",
    "\n",
    "        train_path = pd.read_csv(self.config.train_path)\n",
    "\n",
    "        X_train = train_path.drop('target', axis=1)\n",
    "        y_train = train_path['target']\n",
    "        \n",
    "        grid = {\n",
    "            \"alpha\": [0.00001, 0.0001, 0.001, 0.1, 1, 10, 100,1000],\n",
    "            \"force_alpha\": [True, False]\n",
    "            }\n",
    "            \n",
    "        model_rs = RandomizedSearchCV(estimator=MultinomialNB(),\n",
    "                                          param_distributions=grid,\n",
    "                                          n_iter=5,\n",
    "                                          verbose=False)\n",
    "        model_rs.fit(X_train, y_train)\n",
    "        \n",
    "        best_params = model_rs.best_params_\n",
    "        \n",
    "        logger.info(best_params)\n",
    "        \n",
    "        # train the model\n",
    "        model = MultinomialNB(**best_params)\n",
    "        model.fit(X_train, y_train)\n",
    "\n",
    "        logger.info(f\"Model train score: {model.score(X_train, y_train)}\")\n",
    "\n",
    "        # save the model\n",
    "        joblib.dump(model, os.path.join(self.config.root_dir, 'model.joblib'))"
   ]
  },
  {
   "cell_type": "code",
   "execution_count": 13,
   "metadata": {},
   "outputs": [
    {
     "name": "stdout",
     "output_type": "stream",
     "text": [
      "[2024-02-09 17:12:18,527: INFO: common: yaml file: config\\config.yaml loaded successfully]\n",
      "[2024-02-09 17:12:18,531: INFO: common: created directory at: artifacts/model_training]\n",
      "[2024-02-09 17:12:22,467: INFO: 1817662677: {'force_alpha': True, 'alpha': 0.0001}]\n",
      "[2024-02-09 17:12:22,546: INFO: 1817662677: Model train score: 0.9901960784313726]\n"
     ]
    }
   ],
   "source": [
    "try:\n",
    "    config = ConfiguratoinManager()\n",
    "    model_training_config = config.get_model_training_config()\n",
    "    model = ModelTraining(model_training_config)\n",
    "    model.training_pipeline()\n",
    "except Exception as e:\n",
    "    raise e"
   ]
  }
 ],
 "metadata": {
  "kernelspec": {
   "display_name": "sms-env",
   "language": "python",
   "name": "python3"
  },
  "language_info": {
   "codemirror_mode": {
    "name": "ipython",
    "version": 3
   },
   "file_extension": ".py",
   "mimetype": "text/x-python",
   "name": "python",
   "nbconvert_exporter": "python",
   "pygments_lexer": "ipython3",
   "version": "3.9.18"
  }
 },
 "nbformat": 4,
 "nbformat_minor": 2
}
