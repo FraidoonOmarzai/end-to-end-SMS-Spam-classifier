{
 "cells": [
  {
   "cell_type": "code",
   "execution_count": 1,
   "metadata": {},
   "outputs": [
    {
     "data": {
      "text/plain": [
       "'c:\\\\Users\\\\44787\\\\Desktop\\\\projects\\\\end-to-end-SMS-Spam-classifier\\\\research'"
      ]
     },
     "execution_count": 1,
     "metadata": {},
     "output_type": "execute_result"
    }
   ],
   "source": [
    "%pwd"
   ]
  },
  {
   "cell_type": "code",
   "execution_count": 2,
   "metadata": {},
   "outputs": [
    {
     "data": {
      "text/plain": [
       "'c:\\\\Users\\\\44787\\\\Desktop\\\\projects\\\\end-to-end-SMS-Spam-classifier'"
      ]
     },
     "execution_count": 2,
     "metadata": {},
     "output_type": "execute_result"
    }
   ],
   "source": [
    "import os\n",
    "\n",
    "os.chdir('../')\n",
    "%pwd"
   ]
  },
  {
   "cell_type": "code",
   "execution_count": 3,
   "metadata": {},
   "outputs": [],
   "source": [
    "from dataclasses import dataclass\n",
    "from pathlib import Path\n",
    "\n",
    "\n",
    "@dataclass\n",
    "class ModelTrainingConfig:\n",
    "    root_dir: Path\n",
    "    df: Path"
   ]
  },
  {
   "cell_type": "code",
   "execution_count": 4,
   "metadata": {},
   "outputs": [],
   "source": [
    "from src.SMSClassifier.constants import CONFIG_PATH\n",
    "from src.SMSClassifier.utils.common import read_yaml, create_directories"
   ]
  },
  {
   "cell_type": "code",
   "execution_count": 5,
   "metadata": {},
   "outputs": [],
   "source": [
    "class ConfiguratoinManager:\n",
    "    def __init__(self, config=CONFIG_PATH):\n",
    "        self.config = read_yaml(config)\n",
    "\n",
    "    def get_model_training_config(self) -> ModelTrainingConfig:\n",
    "        config = self.config.model_training\n",
    "        create_directories([config.root_dir])\n",
    "\n",
    "        model_training_config = ModelTrainingConfig(\n",
    "            root_dir=config.root_dir,\n",
    "            df=config.df,\n",
    "        )\n",
    "        return model_training_config"
   ]
  },
  {
   "cell_type": "code",
   "execution_count": 6,
   "metadata": {},
   "outputs": [],
   "source": [
    "from src.SMSClassifier.logging import logger\n",
    "from sklearn.feature_extraction.text import TfidfVectorizer\n",
    "from imblearn.over_sampling import RandomOverSampler\n",
    "from sklearn.model_selection import train_test_split\n",
    "from sklearn.naive_bayes import MultinomialNB\n",
    "from sklearn.metrics import confusion_matrix, classification_report\n",
    "from src.SMSClassifier.utils.common import save_bin\n",
    "import joblib\n",
    "import pandas as pd"
   ]
  },
  {
   "cell_type": "code",
   "execution_count": 7,
   "metadata": {},
   "outputs": [],
   "source": [
    "class ModelTraining:\n",
    "    def __init__(self, config: ModelTrainingConfig) -> None:\n",
    "        self.config = config\n",
    "\n",
    "    def training_pipeline(self):\n",
    "        df = pd.read_csv(self.config.df, encoding='latin-1')\n",
    "        # print(df.head(2))\n",
    "\n",
    "        # tfidf vectorizer\n",
    "        tfv = TfidfVectorizer(max_features=2500)\n",
    "        X = tfv.fit_transform(df['msg'].values.astype('U'))\n",
    "\n",
    "        y = df.target\n",
    "\n",
    "        # balance the dataset\n",
    "        sampler = RandomOverSampler(random_state=42)\n",
    "        X_sm, y_sm = sampler.fit_resample(X, y)\n",
    "\n",
    "        # train test split\n",
    "        X_train, X_test, y_train, y_test = train_test_split(\n",
    "            X_sm, y_sm, test_size=0.20, random_state=42)\n",
    "\n",
    "        # train the model\n",
    "        model = MultinomialNB()\n",
    "        model.fit(X_train, y_train)\n",
    "\n",
    "        # model evaluation\n",
    "        y_pred = model.predict(X_test)\n",
    "        logger.info(confusion_matrix(y_test, y_pred))\n",
    "\n",
    "        logger.info(classification_report(y_test, y_pred))\n",
    "\n",
    "        # save the model\n",
    "        # save_bin(model, os.path.join(self.config.root_dir, 'model.joblib'))\n",
    "        joblib.dump(model, os.path.join(self.config.root_dir, 'model.joblib'))\n",
    "        joblib.dump(model, os.path.join(self.config.root_dir, 'tfidfv.joblib'))\n",
    "        "
   ]
  },
  {
   "cell_type": "code",
   "execution_count": 8,
   "metadata": {},
   "outputs": [
    {
     "name": "stdout",
     "output_type": "stream",
     "text": [
      "[2024-01-31 16:46:48,558: INFO: common: yaml file: config\\config.yaml loaded successfully]\n",
      "[2024-01-31 16:46:48,561: INFO: common: created directory at: artifacts/model_training]\n",
      "[2024-01-31 16:46:48,669: INFO: 2608674256: [[842  42]\n",
      " [ 38 885]]]\n",
      "[2024-01-31 16:46:48,691: INFO: 2608674256:               precision    recall  f1-score   support\n",
      "\n",
      "           0       0.96      0.95      0.95       884\n",
      "           1       0.95      0.96      0.96       923\n",
      "\n",
      "    accuracy                           0.96      1807\n",
      "   macro avg       0.96      0.96      0.96      1807\n",
      "weighted avg       0.96      0.96      0.96      1807\n",
      "]\n"
     ]
    }
   ],
   "source": [
    "try:\n",
    "    config = ConfiguratoinManager()\n",
    "    model_training_config = config.get_model_training_config()\n",
    "    model = ModelTraining(model_training_config)\n",
    "    model.training_pipeline()\n",
    "except Exception as e:\n",
    "    raise e"
   ]
  }
 ],
 "metadata": {
  "kernelspec": {
   "display_name": "sms-env",
   "language": "python",
   "name": "python3"
  },
  "language_info": {
   "codemirror_mode": {
    "name": "ipython",
    "version": 3
   },
   "file_extension": ".py",
   "mimetype": "text/x-python",
   "name": "python",
   "nbconvert_exporter": "python",
   "pygments_lexer": "ipython3",
   "version": "3.9.18"
  }
 },
 "nbformat": 4,
 "nbformat_minor": 2
}
