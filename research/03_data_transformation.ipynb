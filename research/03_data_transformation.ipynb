{
 "cells": [
  {
   "cell_type": "code",
   "execution_count": 1,
   "metadata": {},
   "outputs": [
    {
     "data": {
      "text/plain": [
       "'c:\\\\Users\\\\44787\\\\Desktop\\\\projects\\\\end-to-end-SMS-Spam-classifier\\\\research'"
      ]
     },
     "execution_count": 1,
     "metadata": {},
     "output_type": "execute_result"
    }
   ],
   "source": [
    "%pwd"
   ]
  },
  {
   "cell_type": "code",
   "execution_count": 2,
   "metadata": {},
   "outputs": [
    {
     "data": {
      "text/plain": [
       "'c:\\\\Users\\\\44787\\\\Desktop\\\\projects\\\\end-to-end-SMS-Spam-classifier'"
      ]
     },
     "execution_count": 2,
     "metadata": {},
     "output_type": "execute_result"
    }
   ],
   "source": [
    "import os\n",
    "\n",
    "os.chdir(\"../\")\n",
    "%pwd"
   ]
  },
  {
   "cell_type": "code",
   "execution_count": 4,
   "metadata": {},
   "outputs": [],
   "source": [
    "from dataclasses import dataclass\n",
    "from pathlib import Path\n",
    "\n",
    "@dataclass\n",
    "class DataTransformationConfig:\n",
    "    root_dir: Path\n",
    "    data_path: Path"
   ]
  },
  {
   "cell_type": "code",
   "execution_count": 5,
   "metadata": {},
   "outputs": [],
   "source": [
    "from src.SMSClassifier.constants import CONFIG_PATH\n",
    "from src.SMSClassifier.utils.common import read_yaml, create_directories"
   ]
  },
  {
   "cell_type": "code",
   "execution_count": 6,
   "metadata": {},
   "outputs": [],
   "source": [
    "class ConfigurationManager:\n",
    "    def __init__(self, config=CONFIG_PATH):\n",
    "        self.config = read_yaml(config)\n",
    "        \n",
    "    def get_data_transformation_config(self) -> DataTransformationConfig:\n",
    "        config = self.config.data_transformation\n",
    "        create_directories([config.root_dir])\n",
    "        \n",
    "        data_transformation_config = DataTransformationConfig(\n",
    "            root_dir=config.root_dir,\n",
    "            data_path=config.data_path\n",
    "        )\n",
    "        return data_transformation_config"
   ]
  },
  {
   "cell_type": "code",
   "execution_count": 17,
   "metadata": {},
   "outputs": [],
   "source": [
    "from src.SMSClassifier.logging import logger\n",
    "import pandas as pd\n",
    "\n",
    "import nltk\n",
    "from nltk.stem import PorterStemmer\n",
    "from nltk.corpus import stopwords\n",
    "from nltk.tokenize import word_tokenize\n",
    "from bs4 import BeautifulSoup\n",
    "\n",
    "from sklearn.feature_extraction.text import TfidfVectorizer\n",
    "\n",
    "from imblearn.over_sampling import RandomOverSampler"
   ]
  },
  {
   "cell_type": "code",
   "execution_count": 32,
   "metadata": {},
   "outputs": [],
   "source": [
    "class DataTransformation:\n",
    "    def __init__(self, config: DataTransformationConfig) -> None:\n",
    "        self.config = config\n",
    "\n",
    "    def prepare_data(self):\n",
    "        df = pd.read_csv(self.config.data_path, encoding='latin-1')\n",
    "        # print(df.head(2))\n",
    "\n",
    "        # remove unnecessary columns\n",
    "        df = df.drop(['Unnamed: 2', 'Unnamed: 3', 'Unnamed: 4'], axis=1)\n",
    "\n",
    "        # rename columns name\n",
    "        df = df.rename(columns={'v1': 'target', 'v2': 'msg'})\n",
    "\n",
    "        # remove duplicates\n",
    "        df = df.drop_duplicates(keep='first')\n",
    "\n",
    "        # label encoding\n",
    "        df.target = df.target.replace({'ham': 0, 'spam': 1})\n",
    "\n",
    "        # text preprocessing\n",
    "        df.msg = df.msg.apply(self.clean_msg)\n",
    "        \n",
    "        # tfidfvectorizer\n",
    "        # tfv = TfidfVectorizer(max_features=2500)\n",
    "        # X = tfv.fit_transform(df.msg).toarray()\n",
    "        # y = df.target\n",
    "        \n",
    "        # # random over sampler\n",
    "        # smote = RandomOverSampler(random_state=42)\n",
    "        # X, y = smote.fit_resample(X, y)\n",
    "        \n",
    "        \n",
    "        # # \n",
    "        # df = pd.DataFrame(X)\n",
    "        # df['target'] = y\n",
    "        \n",
    "        # # print(df.head(2))\n",
    "        # # print(df.shape)\n",
    "        \n",
    "        # save the dataset\n",
    "        df.to_csv(os.path.join(self.config.root_dir, 'clean_df.csv.'), index=False)\n",
    "\n",
    "    def clean_msg(self, msg, stemmer=PorterStemmer(), stop_words=set(stopwords.words('english'))):\n",
    "\n",
    "        # remove html tags\n",
    "        soup = BeautifulSoup(msg, 'html.parser')\n",
    "        clean_text = soup.get_text()\n",
    "\n",
    "        # convert to lower case and splits up the words\n",
    "        words = word_tokenize(clean_text.lower())\n",
    "\n",
    "        filter_words = []\n",
    "\n",
    "        for word in words:\n",
    "            # removing the stop words and punctuation\n",
    "            if word not in stop_words and word.isalpha():\n",
    "                filter_words.append(stemmer.stem(word))  # words stemming\n",
    "\n",
    "        return ' '.join(filter_words)"
   ]
  },
  {
   "cell_type": "code",
   "execution_count": 33,
   "metadata": {},
   "outputs": [
    {
     "name": "stdout",
     "output_type": "stream",
     "text": [
      "[2024-01-30 10:28:39,621: INFO: common: yaml file: config\\config.yaml loaded successfully]\n",
      "[2024-01-30 10:28:39,621: INFO: common: created directory at: artifacts/data_transformation]\n"
     ]
    },
    {
     "name": "stderr",
     "output_type": "stream",
     "text": [
      "C:\\Users\\44787\\AppData\\Local\\Temp\\ipykernel_23676\\2279487467.py:19: FutureWarning: Downcasting behavior in `replace` is deprecated and will be removed in a future version. To retain the old behavior, explicitly call `result.infer_objects(copy=False)`. To opt-in to the future behavior, set `pd.set_option('future.no_silent_downcasting', True)`\n",
      "  df.target = df.target.replace({'ham': 0, 'spam': 1})\n",
      "C:\\Users\\44787\\AppData\\Local\\Temp\\ipykernel_23676\\2279487467.py:47: MarkupResemblesLocatorWarning: The input looks more like a filename than markup. You may want to open this file and pass the filehandle into Beautiful Soup.\n",
      "  soup = BeautifulSoup(msg, 'html.parser')\n"
     ]
    }
   ],
   "source": [
    "try:\n",
    "    config = ConfigurationManager()\n",
    "    data_transformation_config = config.get_data_transformation_config()\n",
    "    data_transformation = DataTransformation(data_transformation_config)\n",
    "    data_transformation.prepare_data()\n",
    "except Exception as e:\n",
    "    raise e"
   ]
  }
 ],
 "metadata": {
  "kernelspec": {
   "display_name": "sms-env",
   "language": "python",
   "name": "python3"
  },
  "language_info": {
   "codemirror_mode": {
    "name": "ipython",
    "version": 3
   },
   "file_extension": ".py",
   "mimetype": "text/x-python",
   "name": "python",
   "nbconvert_exporter": "python",
   "pygments_lexer": "ipython3",
   "version": "3.9.18"
  }
 },
 "nbformat": 4,
 "nbformat_minor": 2
}
