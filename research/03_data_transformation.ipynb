{
 "cells": [
  {
   "cell_type": "code",
   "execution_count": 1,
   "metadata": {},
   "outputs": [
    {
     "data": {
      "text/plain": [
       "'c:\\\\Users\\\\44787\\\\Desktop\\\\projects\\\\end-to-end-SMS-Spam-classifier\\\\research'"
      ]
     },
     "execution_count": 1,
     "metadata": {},
     "output_type": "execute_result"
    }
   ],
   "source": [
    "%pwd"
   ]
  },
  {
   "cell_type": "code",
   "execution_count": 2,
   "metadata": {},
   "outputs": [
    {
     "data": {
      "text/plain": [
       "'c:\\\\Users\\\\44787\\\\Desktop\\\\projects\\\\end-to-end-SMS-Spam-classifier'"
      ]
     },
     "execution_count": 2,
     "metadata": {},
     "output_type": "execute_result"
    }
   ],
   "source": [
    "import os\n",
    "\n",
    "os.chdir(\"../\")\n",
    "%pwd"
   ]
  },
  {
   "cell_type": "code",
   "execution_count": 3,
   "metadata": {},
   "outputs": [],
   "source": [
    "from dataclasses import dataclass\n",
    "from pathlib import Path\n",
    "\n",
    "\n",
    "@dataclass\n",
    "class DataTransformationConfig:\n",
    "    root_dir: Path\n",
    "    data_path: Path"
   ]
  },
  {
   "cell_type": "code",
   "execution_count": 4,
   "metadata": {},
   "outputs": [],
   "source": [
    "from src.SMSClassifier.constants import CONFIG_PATH\n",
    "from src.SMSClassifier.utils.common import read_yaml, create_directories"
   ]
  },
  {
   "cell_type": "code",
   "execution_count": 5,
   "metadata": {},
   "outputs": [],
   "source": [
    "class ConfigurationManager:\n",
    "    def __init__(self, config=CONFIG_PATH):\n",
    "        self.config = read_yaml(config)\n",
    "\n",
    "    def get_data_transformation_config(self) -> DataTransformationConfig:\n",
    "        config = self.config.data_transformation\n",
    "        create_directories([config.root_dir])\n",
    "\n",
    "        data_transformation_config = DataTransformationConfig(\n",
    "            root_dir=config.root_dir,\n",
    "            data_path=config.data_path\n",
    "        )\n",
    "        return data_transformation_config"
   ]
  },
  {
   "cell_type": "code",
   "execution_count": 6,
   "metadata": {},
   "outputs": [],
   "source": [
    "from src.SMSClassifier.logging import logger\n",
    "import pandas as pd\n",
    "\n",
    "import nltk\n",
    "from nltk.stem import PorterStemmer\n",
    "from nltk.corpus import stopwords\n",
    "from nltk.tokenize import word_tokenize\n",
    "from bs4 import BeautifulSoup\n",
    "\n",
    "from sklearn.feature_extraction.text import TfidfVectorizer\n",
    "from sklearn.model_selection import train_test_split\n",
    "\n",
    "from imblearn.over_sampling import RandomOverSampler\n",
    "\n",
    "from collections import Counter\n",
    "\n",
    "import joblib"
   ]
  },
  {
   "cell_type": "code",
   "execution_count": 7,
   "metadata": {},
   "outputs": [],
   "source": [
    "class DataTransformation1:\n",
    "    def __init__(self, config: DataTransformationConfig) -> None:\n",
    "        self.config = config\n",
    "\n",
    "    def clean_data(self):\n",
    "        df = pd.read_csv(self.config.data_path, encoding='latin-1')\n",
    "        # print(df.head(2))\n",
    "\n",
    "        # remove unnecessary columns\n",
    "        df = df.drop(['Unnamed: 2', 'Unnamed: 3', 'Unnamed: 4'], axis=1)\n",
    "\n",
    "        # rename columns name\n",
    "        df = df.rename(columns={'v1': 'target', 'v2': 'msg'})\n",
    "\n",
    "        # remove duplicates\n",
    "        df = df.drop_duplicates(keep='first')\n",
    "\n",
    "        # label encoding\n",
    "        df.target = df.target.replace({'ham': 0, 'spam': 1})\n",
    "\n",
    "        # text preprocessing\n",
    "        df.msg = df.msg.apply(self.clean_msg)\n",
    "\n",
    "        return df\n",
    "\n",
    "    def clean_msg(self, msg, stemmer=PorterStemmer(), stop_words=set(stopwords.words('english'))):\n",
    "\n",
    "        # remove html tags\n",
    "        soup = BeautifulSoup(msg, 'html.parser')\n",
    "        clean_text = soup.get_text()\n",
    "\n",
    "        # convert to lower case and splits up the words\n",
    "        words = word_tokenize(clean_text.lower())\n",
    "\n",
    "        filter_words = []\n",
    "\n",
    "        for word in words:\n",
    "            # removing the stop words and punctuation\n",
    "            if word not in stop_words and word.isalpha():\n",
    "                filter_words.append(stemmer.stem(word))  # words stemming\n",
    "\n",
    "        return ' '.join(filter_words)\n",
    "\n",
    "    def tfidf_vectorizer(self, df):\n",
    "        # tfidfvectorizer\n",
    "\n",
    "        tfv = TfidfVectorizer(max_features=2500)\n",
    "        X = tfv.fit_transform(df['msg']).toarray()\n",
    "        y = df['target']\n",
    "        \n",
    "        df_new = pd.DataFrame(X, index=df.index)\n",
    "        df_new['target'] = y\n",
    "        \n",
    "        logger.info(f'after tfidf data shape: {df_new.shape}')\n",
    "        \n",
    "        joblib.dump(tfv, os.path.join(self.config.root_dir, 'tfidfv.joblib'))\n",
    "        \n",
    "        return df_new\n",
    "\n",
    "\n",
    "    def handle_imbalance(self, df):\n",
    "        # balance the dataset\n",
    "        X = df.drop('target', axis=1)\n",
    "        y = df.target\n",
    "        \n",
    "        sampler = RandomOverSampler(random_state=42)\n",
    "        X_sm, y_sm = sampler.fit_resample(X, y)\n",
    "\n",
    "        logger.info('Resampled dataset shape %s' % Counter(y_sm))\n",
    "        \n",
    "        df_new = pd.DataFrame(X_sm, index=df.index)\n",
    "        df_new['target'] = y_sm\n",
    "        \n",
    "        logger.info(df_new.shape)\n",
    "        \n",
    "\n",
    "        return df_new\n",
    "\n",
    "    def train_test_splits(self, df):\n",
    "        train, test = train_test_split(df)\n",
    "        train.to_csv(os.path.join(\n",
    "            self.config.root_dir, \"train.csv\"), index=False)\n",
    "        test.to_csv(os.path.join(\n",
    "            self.config.root_dir, \"test.csv\"), index=False)\n",
    "        logger.info(\"Splited data into training and test sets\")\n",
    "        logger.info(f'train shape: {train.shape}')\n",
    "        logger.info(f'test shape: {test.shape}')"
   ]
  },
  {
   "cell_type": "code",
   "execution_count": 8,
   "metadata": {},
   "outputs": [
    {
     "name": "stdout",
     "output_type": "stream",
     "text": [
      "[2024-02-06 15:56:03,622: INFO: common: yaml file: config\\config.yaml loaded successfully]\n",
      "[2024-02-06 15:56:03,628: INFO: common: created directory at: artifacts/data_transformation]\n"
     ]
    },
    {
     "name": "stderr",
     "output_type": "stream",
     "text": [
      "C:\\Users\\44787\\AppData\\Local\\Temp\\ipykernel_19564\\1269566412.py:19: FutureWarning: Downcasting behavior in `replace` is deprecated and will be removed in a future version. To retain the old behavior, explicitly call `result.infer_objects(copy=False)`. To opt-in to the future behavior, set `pd.set_option('future.no_silent_downcasting', True)`\n",
      "  df.target = df.target.replace({'ham': 0, 'spam': 1})\n",
      "C:\\Users\\44787\\AppData\\Local\\Temp\\ipykernel_19564\\1269566412.py:29: MarkupResemblesLocatorWarning: The input looks more like a filename than markup. You may want to open this file and pass the filehandle into Beautiful Soup.\n",
      "  soup = BeautifulSoup(msg, 'html.parser')\n"
     ]
    },
    {
     "name": "stdout",
     "output_type": "stream",
     "text": [
      "[2024-02-06 15:56:06,797: INFO: 1269566412: after tfidf data shape: (5169, 2501)]\n",
      "[2024-02-06 15:56:15,360: INFO: 1269566412: Splited data into training and test sets]\n",
      "[2024-02-06 15:56:15,361: INFO: 1269566412: train shape: (3876, 2501)]\n",
      "[2024-02-06 15:56:15,362: INFO: 1269566412: test shape: (1293, 2501)]\n"
     ]
    }
   ],
   "source": [
    "try:\n",
    "    config = ConfigurationManager()\n",
    "    data_transformation_config = config.get_data_transformation_config()\n",
    "    data_transformation = DataTransformation1(data_transformation_config)\n",
    "    df = data_transformation.clean_data()\n",
    "    df = data_transformation.tfidf_vectorizer(df)\n",
    "    data_transformation.train_test_splits(df)\n",
    "except Exception as e:\n",
    "    raise e"
   ]
  }
 ],
 "metadata": {
  "kernelspec": {
   "display_name": "sms-env",
   "language": "python",
   "name": "python3"
  },
  "language_info": {
   "codemirror_mode": {
    "name": "ipython",
    "version": 3
   },
   "file_extension": ".py",
   "mimetype": "text/x-python",
   "name": "python",
   "nbconvert_exporter": "python",
   "pygments_lexer": "ipython3",
   "version": "3.9.18"
  }
 },
 "nbformat": 4,
 "nbformat_minor": 2
}
